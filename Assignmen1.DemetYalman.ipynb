{
 "cells": [
  {
   "cell_type": "code",
   "execution_count": 2,
   "metadata": {
    "collapsed": true
   },
   "outputs": [],
   "source": [
    "import numpy as np\n",
    "import matplotlib.pyplot as plt\n",
    "import random\n",
    "import math\n",
    "\n",
    "# Create N random samples in (0,1)\n",
    "N = 1000\n",
    "\n",
    "# we need to generate samples for R and Theta first\n",
    "R = []\n",
    "Theta = []\n",
    "\n",
    "for i in range(N):\n",
    "    R.append(math.sqrt(random.uniform(0,1)))\n",
    "\n",
    "for i in range(N):\n",
    "    # since theta ~ (0, 2*pi)\n",
    "    Theta.append(random.uniform(0, 2*math.pi))\n",
    "\n",
    "# Now, we need to obtain polar coordinates (x,y)\n",
    "# x = r*cos(theta)  and  y = r*sin(theta)\n",
    "x = []\n",
    "y = []\n",
    "\n",
    "for i in range(N):\n",
    "    x.append(R[i] * math.cos(Theta[i]))\n",
    "    y.append(R[i] * math.sin(Theta[i]))\n",
    "\n",
    "\n",
    "#plot answer of the 1st question\n",
    "plt.plot(x, y,'b*')\n",
    "plt.axis([-1.5, 1.5, -1.5, 1.5])\n",
    "plt.xlabel('x')\n",
    "plt.ylabel('y')\n",
    "plt.show()\n"
   ]
  },
  {
   "cell_type": "code",
   "execution_count": 3,
   "metadata": {
    "collapsed": false
   },
   "outputs": [
    {
     "name": "stdout",
     "output_type": "stream",
     "text": [
      "Acceptance rate is 0.87000 when p=1.5\n",
      "Acceptance rate is 0.41100 when p=0.7\n"
     ]
    }
   ],
   "source": [
    "p = [1.5, 0.7]\n",
    "\n",
    "# p-norm\n",
    "def p_norm(x, y, p):\n",
    "    return math.pow( math.pow(math.fabs(x),p) + math.pow(math.fabs(y),p), (1/p) )\n",
    "\n",
    "# inequality p_norm <= 1\n",
    "def acceptance_condition(pnorm):\n",
    "    if pnorm <= 1:\n",
    "        return 1\n",
    "    else:\n",
    "        return 0\n",
    "\n",
    "# to keep accepted samples\n",
    "accepted_x = []\n",
    "accepted_y = []\n",
    "\n",
    "# for two different  p values\n",
    "accepted_x.append([])\n",
    "accepted_x.append([])\n",
    "\n",
    "accepted_y.append([])\n",
    "accepted_y.append([])\n",
    "\n",
    "# for each p value, obtain accepted x and y values which fulfill the condition\n",
    "for i in range(len(p)):\n",
    "    for j in range(len(x)):\n",
    "        if acceptance_condition(p_norm(x[j], y[j], p[i])) == 1 :\n",
    "            accepted_x[i].append(x[j])\n",
    "            accepted_y[i].append(y[j])\n",
    "\n",
    "# plot\n",
    "for i in range(2):\n",
    "    plt.plot(accepted_x[i],accepted_y[i],'ro')\n",
    "    plt.axis([-1.5, 1.5, -1.5, 1.5])\n",
    "    plt.show()\n",
    "\n",
    "# acceptance rate\n",
    "acceptance_rate = [0.0,0.0]\n",
    "\n",
    "\n",
    "for i in range(len(p)):\n",
    "    # number of accepted samples / total number of samples\n",
    "    acceptance_rate[i] = float(len(accepted_x[i])) / len(x)\n",
    "    print \"Acceptance rate is %.5f when p=%.1f\" %(acceptance_rate[i], p[i])"
   ]
  },
  {
   "cell_type": "code",
   "execution_count": null,
   "metadata": {
    "collapsed": true
   },
   "outputs": [],
   "source": []
  }
 ],
 "metadata": {
  "kernelspec": {
   "display_name": "Python 2",
   "language": "python",
   "name": "python2"
  },
  "language_info": {
   "codemirror_mode": {
    "name": "ipython",
    "version": 2
   },
   "file_extension": ".py",
   "mimetype": "text/x-python",
   "name": "python",
   "nbconvert_exporter": "python",
   "pygments_lexer": "ipython2",
   "version": "2.7.11"
  }
 },
 "nbformat": 4,
 "nbformat_minor": 0
}
