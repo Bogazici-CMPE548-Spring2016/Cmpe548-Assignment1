{
 "metadata": {
  "name": ""
 },
 "nbformat": 3,
 "nbformat_minor": 0,
 "worksheets": [
  {
   "cells": [
    {
     "cell_type": "code",
     "collapsed": false,
     "input": [
      "#!/usr/bin/python\n",
      "import numpy as np\n",
      "import matplotlib.pyplot as plt\n",
      "from mpl_toolkits.mplot3d import Axes3D\n",
      "%matplotlib inline\n",
      "\n",
      "def pNorm(data):\n",
      "    (m,n) = np.shape(data) # mxn matrix (m = N; n = dim actually)\n",
      "    acceptedData = data #initialization\n",
      "    count = 0\n",
      "    for i in range(m):\n",
      "        pTemp = 0\n",
      "        for j in range(n):\n",
      "            pTemp += np.power(np.fabs(data[i,j]),2)\n",
      "        if  pTemp <= 1: # |x|^dim + |y|^dim ... <= 1^dim\n",
      "            acceptedData[count,:] = data[i,:]\n",
      "            count += 1\n",
      "    acceptedData = acceptedData[:count] #discard rest\n",
      "    return(acceptedData,count)\n",
      "\n",
      "N = 50000 #no of samples\n",
      "dim = 2 #<dim>-dimensional space\n",
      "\n",
      "data = np.zeros((N,dim))\n",
      "for i in range(dim): #(n x dim) uniform numbers from [-1,1]\n",
      "    data[:,i] = np.random.rand(N) * 2 - 1\n",
      "\n",
      "accepted, count = pNorm(data)\n",
      "ar = (float)(count) / len(data)\n",
      "\n",
      "if dim==2:\n",
      "    plt.figure(figsize=(10,10))\n",
      "    plt.plot(data[:,0], data[:,1],'b.',label='Proposal')\n",
      "    plt.plot(accepted[:,0],accepted[:,1],'r.', label='p=2')\n",
      "    plt.title('p=2, acceptanceRate = ' + str(ar))\n",
      "    plt.xlabel('x')\n",
      "    plt.ylabel('y')\n",
      "    plt.legend(loc='upper right', fontsize='medium')\n",
      "    \n",
      "    plt.show()\n",
      "\n",
      "if dim==3:\n",
      "    fig = plt.figure()\n",
      "    ax = plt.axes(projection='3d')\n",
      "    ax.scatter(data[:,0], data[:,1], data[:,2], color='b', marker='.', alpha = 0.1)\n",
      "    ax.scatter(accepted[:,0], accepted[:,1], accepted[:,2], marker='.', alpha = 1)\n",
      "    plt.title('Rejection from Unit Cube, acceptanceRate = ' + str(ar))\n",
      "    ax.set_xlabel('x')\n",
      "    ax.set_ylabel('y')\n",
      "    ax.set_zlabel('z')    \n",
      "    plt.show()"
     ],
     "language": "python",
     "metadata": {},
     "outputs": [],
     "prompt_number": 1
    },
    {
     "cell_type": "code",
     "collapsed": false,
     "input": [],
     "language": "python",
     "metadata": {},
     "outputs": []
    }
   ],
   "metadata": {}
  }
 ]
}