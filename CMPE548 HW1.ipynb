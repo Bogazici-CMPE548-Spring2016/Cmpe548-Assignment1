{
 "cells": [
  {
   "cell_type": "markdown",
   "metadata": {},
   "source": [
    "# CMPE 548 HW1"
   ]
  },
  {
   "cell_type": "markdown",
   "metadata": {},
   "source": [
    "# Question 1"
   ]
  },
  {
   "cell_type": "code",
   "execution_count": 11,
   "metadata": {
    "collapsed": false
   },
   "outputs": [],
   "source": [
    "import random\n",
    "import math\n",
    "import numpy as np\n",
    "import matplotlib.pyplot as plt\n",
    "\n",
    "#QUESTION 1\n",
    "N = 1000 #number of samples\n",
    "##########################\n",
    "#generate sample for R\n",
    "R = []\n",
    "\n",
    "for i in range(N):\n",
    "    R.append(math.sqrt(random.uniform(0,1)))\n",
    "\n",
    "##########################    \n",
    "#generate sample for theta\n",
    "theta = []\n",
    "\n",
    "for i in range(N):\n",
    "    theta.append(random.uniform(0,2*math.pi))\n",
    "\n",
    "##########################    \n",
    "#convert R and theta to x y coordinates\n",
    "x = []\n",
    "y = []\n",
    "\n",
    "for i in range(N):\n",
    "    x.append(R[i]*math.cos(theta[i]))\n",
    "\n",
    "for i in range(N):\n",
    "    y.append(R[i]*math.sin(theta[i]))\n",
    "\n",
    "##########################    \n",
    "#plot sample points\n",
    "fig1 = plt.figure(0)\n",
    "plt.plot(x,y,'ro')\n",
    "#plt.axis([-1.2, 1.2, -1.2, 1.2])\n",
    "plt.axis('equal')\n",
    "plt.title('Uniform samples from a circlar region')\n",
    "plt.xlabel('x')\n",
    "plt.ylabel('y')\n",
    "plt.draw()\n",
    "fig1.savefig('uniformsample.eps')"
   ]
  },
  {
   "cell_type": "code",
   "execution_count": null,
   "metadata": {
    "collapsed": true
   },
   "outputs": [],
   "source": []
  },
  {
   "cell_type": "markdown",
   "metadata": {},
   "source": [
    "# Question 2"
   ]
  },
  {
   "cell_type": "code",
   "execution_count": 12,
   "metadata": {
    "collapsed": false,
    "scrolled": true
   },
   "outputs": [
    {
     "name": "stdout",
     "output_type": "stream",
     "text": [
      "The accept rate for the case p = 1.5 is 0.877.\n",
      "\n",
      "The accept rate for the case p = 0.7 is 0.391.\n",
      "\n",
      "The accept rate for the case p = 0.7 where the samples are drawn from the new region is 0.642.\n",
      "\n"
     ]
    }
   ],
   "source": [
    "def abs(x):\n",
    "    return math.fabs(x)\n",
    "\n",
    "def p_norm(x,y,p):\n",
    "    return math.pow((math.pow(abs(x),p) + math.pow(abs(y),p)),(1/p))\n",
    "\n",
    "def accept(p_nrm):\n",
    "    if p_nrm <= 1:\n",
    "        return 1\n",
    "    else:\n",
    "        return 0\n",
    "    \n",
    "def newaccept(x,y):\n",
    "    if  (abs(x)+abs(y)) <= 1:\n",
    "        return 1\n",
    "    else:\n",
    "        return 0\n",
    "    \n",
    "#QUESTION 2\n",
    "p = [1.5, 0.7, 0.7]\n",
    "accept_rate = [0, 0, 0]\n",
    "\n",
    "#############################################\n",
    "#draw samples from the closed unit ball p\n",
    "accepted_samplesx = []\n",
    "accepted_samplesx.append([]) #p=1.5\n",
    "accepted_samplesx.append([]) #p=0.7\n",
    "accepted_samplesx.append([]) #p_0.7 part 2\n",
    "\n",
    "accepted_samplesy = []\n",
    "accepted_samplesy.append([]) #p=1.5\n",
    "accepted_samplesy.append([]) #p=0.7\n",
    "accepted_samplesy.append([]) #p=0.7 part 2 \n",
    "\n",
    "#############################################\n",
    "for j in range(2):\n",
    "    for i in range(len(x)):\n",
    "        if (accept(p_norm(x[i],y[i],p[j])) == 1):\n",
    "            accepted_samplesx[j].append(x[i])\n",
    "            accepted_samplesy[j].append(y[i])\n",
    "\n",
    "#############################################            \n",
    "new_x = []\n",
    "new_y = []\n",
    "#TODO            \n",
    "for i in range(len(x)):\n",
    "    cur_x = random.uniform(-1,1)\n",
    "    cur_y = random.uniform(-1,1)\n",
    "    while (newaccept(cur_x,cur_y) == 0):\n",
    "        cur_x = random.uniform(-1,1)\n",
    "        cur_y = random.uniform(-1,1)\n",
    "    new_x.append(cur_x)\n",
    "    new_y.append(cur_y)  \n",
    "    \n",
    "for i in range(len(new_x)):\n",
    "    if (accept(p_norm(new_x[i],new_y[i],p[2])) == 1):\n",
    "        accepted_samplesx[2].append(new_x[i])\n",
    "        accepted_samplesy[2].append(new_y[i])\n",
    "\n",
    "##############################################        \n",
    "#calculate acceptance rate\n",
    "for i in range(3):\n",
    "    accept_rate[i] = len(accepted_samplesx[i])/len(x)\n",
    "\n",
    "##############################################    \n",
    "#report acceptance rate\n",
    "for i in range(2):\n",
    "    print(\"The accept rate for the case p = %.1f is %.3f.\\n\" %(p[i], accept_rate[i]))\n",
    "    \n",
    "print(\"The accept rate for the case p = %.1f where the samples are drawn from the new region is %.3f.\\n\" %(p[2], accept_rate[2]))   \n",
    "\n",
    "##############################################\n",
    "#plot samples from the closed unit ball p\n",
    "fig = [0,0,0]\n",
    "for i in range(3):\n",
    "    fig[i] = plt.figure(i+1)\n",
    "    plt.plot(accepted_samplesx[i],accepted_samplesy[i],'bo')\n",
    "    plt.axis('equal')\n",
    "    #plt.axis([-1.2, 1.2, -1.2, 1.2])\n",
    "    s = 'Closed unit ball corresponding for p=' + str(p[i])\n",
    "    plt.title(s)\n",
    "    plt.xlabel('x')\n",
    "    plt.ylabel('y')\n",
    "    plt.draw() \n",
    "    \n",
    "    if(i<2):\n",
    "        fig[i].savefig('rejection sampling for p='+ str(p[i])+'.eps')\n",
    "    else:\n",
    "        fig[i].savefig('improved rejection sampling for p='+ str(p[i])+'.eps')"
   ]
  },
  {
   "cell_type": "code",
   "execution_count": 13,
   "metadata": {
    "collapsed": false
   },
   "outputs": [],
   "source": [
    "#all the plots are shown in different figures\n",
    "plt.show() "
   ]
  },
  {
   "cell_type": "code",
   "execution_count": null,
   "metadata": {
    "collapsed": true
   },
   "outputs": [],
   "source": []
  }
 ],
 "metadata": {
  "kernelspec": {
   "display_name": "Python 3",
   "language": "python",
   "name": "python3"
  },
  "language_info": {
   "codemirror_mode": {
    "name": "ipython",
    "version": 3
   },
   "file_extension": ".py",
   "mimetype": "text/x-python",
   "name": "python",
   "nbconvert_exporter": "python",
   "pygments_lexer": "ipython3",
   "version": "3.5.1"
  }
 },
 "nbformat": 4,
 "nbformat_minor": 0
}
