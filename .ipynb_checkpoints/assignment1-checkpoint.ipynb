{
 "cells": [
  {
   "cell_type": "markdown",
   "metadata": {},
   "source": [
    "# Cmpe 548 Assignment 1, Inversion method, Rejection Sampling"
   ]
  },
  {
   "cell_type": "code",
   "execution_count": 100,
   "metadata": {
    "collapsed": true
   },
   "outputs": [],
   "source": [
    "import numpy as np\n",
    "import matplotlib.pyplot as plt\n",
    "\n",
    "def t(x):\n",
    "    return 2 * np.pi * x\n",
    "\n",
    "def r(x):\n",
    "    return np.sqrt(x)"
   ]
  },
  {
   "cell_type": "markdown",
   "metadata": {},
   "source": [
    "These defined functions are CDF's for variables theta and rho respectively. CDF for theta is trivial since we need a uniform distribution defined in [0, 2 * pi]. Integral of PDF should yield 1. So CDF is 1 / 2*pi*x. Inverse of this is 2*pi*x.\n",
    "\n",
    "Our approach is to first draw the angle, then draw a point from that line with the drawn angle. If we draw samples from uniform distribution for rho, we cannot have a uniform distribution in the circle."
   ]
  },
  {
   "cell_type": "code",
   "execution_count": 101,
   "metadata": {
    "collapsed": false,
    "scrolled": true
   },
   "outputs": [],
   "source": [
    "N = 10000\n",
    "u1 = np.random.randn(N)\n",
    "u2 = np.random.randn(N)"
   ]
  },
  {
   "cell_type": "markdown",
   "metadata": {},
   "source": [
    "We need two distinct random generated number distributions. If we use the same distribution as a seed for both theta and rho, since our method of generating random variables from these distributions is inversion method, this will result in a spiral shaped samples."
   ]
  },
  {
   "cell_type": "code",
   "execution_count": null,
   "metadata": {
    "collapsed": true
   },
   "outputs": [],
   "source": []
  }
 ],
 "metadata": {
  "kernelspec": {
   "display_name": "Python 3",
   "language": "python",
   "name": "python3"
  },
  "language_info": {
   "codemirror_mode": {
    "name": "ipython",
    "version": 3
   },
   "file_extension": ".py",
   "mimetype": "text/x-python",
   "name": "python",
   "nbconvert_exporter": "python",
   "pygments_lexer": "ipython3",
   "version": "3.5.1"
  }
 },
 "nbformat": 4,
 "nbformat_minor": 0
}
