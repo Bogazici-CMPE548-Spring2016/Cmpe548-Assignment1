{
 "cells": [
  {
   "cell_type": "code",
   "execution_count": 2,
   "metadata": {
    "collapsed": true
   },
   "outputs": [],
   "source": [
    "import math\n",
    "import numpy as np\n",
    "import matplotlib.pyplot as plt\n",
    "%matplotlib inline  \n"
   ]
  },
  {
   "cell_type": "code",
   "execution_count": 3,
   "metadata": {
    "collapsed": true
   },
   "outputs": [],
   "source": [
    "def inversion_2_norm(N):\n",
    "    r_inverse_cdf = lambda y: math.sqrt(y)\n",
    "    theta_inverse_cdf = lambda y: 2 * y * math.pi\n",
    "    polars = [(r_inverse_cdf(np.random.uniform(0,1,1)[0]), theta_inverse_cdf(np.random.uniform(0,1,1)[0])) for i in range(N)]\n",
    "    coords = [(r*math.cos(theta), r*math.sin(theta)) for (r, theta) in polars]\n",
    "    return coords\n",
    "\n",
    "def sample_p_norm(p, N):\n",
    "    if p == 2:\n",
    "        return inversion_2_norm(N)\n",
    "    else:\n",
    "        reject = lambda x1, x2: ((math.fabs(x1)**p) + (math.fabs(x2)**p))**(1/p) > 1\n",
    "        coords = [(x1, x2) for (x1, x2) in inversion_2_norm(N) if not reject(x1, x2)]\n",
    "        rejected = 1 - len(coords)/float(N)\n",
    "        return coords, rejected\n",
    "\n"
   ]
  },
  {
   "cell_type": "code",
   "execution_count": 17,
   "metadata": {
    "collapsed": false
   },
   "outputs": [
    {
     "name": "stdout",
     "output_type": "stream",
     "text": [
      "Of 5000 points generated for 2-norm ball\n",
      "p        rejection_rate\n",
      "-------------------------\n",
      "1.50     0.14\n",
      "0.70     0.60\n"
     ]
    },
    {
     "data": {
      "image/png": "[encoded data removed]",
      "text/plain": [
       "<matplotlib.figure.Figure at 0x106d284d0>"
      ]
     },
     "metadata": {},
     "output_type": "display_data"
    }
   ],
   "source": [
    "f, (ax1, ax2, ax3) = plt.subplots(1, 3)\n",
    "ax1.set_aspect(1.0)\n",
    "ax2.set_aspect(1.0)\n",
    "ax3.set_aspect(1.0)\n",
    "\n",
    "N = 5000\n",
    "coords1 = sample_p_norm(2, N)\n",
    "ax1.plot(np.array([c[0] for c in coords1]), np.array([c[1] for c in coords1]), '.')\n",
    "ax1.set_title('p = 2')\n",
    "\n",
    "coords2, rejected1  = sample_p_norm(1.5, N)\n",
    "ax2.plot(np.array([c[0] for c in coords2]), np.array([c[1] for c in coords2]), '.')\n",
    "ax2.set_title('p = 1.5')\n",
    "\n",
    "coords3, rejected2 = sample_p_norm(0.7, N)\n",
    "ax3.plot(np.array([c[0] for c in coords3]), np.array([c[1] for c in coords3]), '.')\n",
    "ax3.set_title('p = 0.7')\n",
    "\n",
    "norms = [1.5, 0.7]\n",
    "rates = [rejected1, rejected2]\n",
    "\n",
    "print \"Of {0} points generated for 2-norm ball\".format(N)\n",
    "print \"{0}{1}{2}\".format(\"p\".ljust(4), \" \"*5, \"rejection_rate\")\n",
    "print \"-\"*25\n",
    "\n",
    "for (p, r) in zip(norms, rates):\n",
    "    print \"{0:.2f}{1}{2:.2f}\".format(p, \" \"*5, r)\n",
    "    \n"
   ]
  },
  {
   "cell_type": "code",
   "execution_count": null,
   "metadata": {
    "collapsed": false
   },
   "outputs": [],
   "source": [
    "\n"
   ]
  },
  {
   "cell_type": "code",
   "execution_count": null,
   "metadata": {
    "collapsed": true
   },
   "outputs": [],
   "source": []
  }
 ],
 "metadata": {
  "kernelspec": {
   "display_name": "Python 2",
   "language": "python",
   "name": "python2"
  },
  "language_info": {
   "codemirror_mode": {
    "name": "ipython",
    "version": 2
   },
   "file_extension": ".py",
   "mimetype": "text/x-python",
   "name": "python",
   "nbconvert_exporter": "python",
   "pygments_lexer": "ipython2",
   "version": "2.7.10"
  }
 },
 "nbformat": 4,
 "nbformat_minor": 0
}
